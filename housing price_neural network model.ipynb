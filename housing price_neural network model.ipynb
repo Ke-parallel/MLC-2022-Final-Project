{
  "nbformat": 4,
  "nbformat_minor": 0,
  "metadata": {
    "colab": {
      "name": "mlc-bk-nn.ipynb",
      "provenance": []
    },
    "kernelspec": {
      "name": "python3",
      "display_name": "Python 3"
    },
    "language_info": {
      "name": "python"
    }
  },
  "cells": [
    {
      "cell_type": "code",
      "source": [
        "import pandas as pd\n",
        "import numpy as np\n",
        "import matplotlib.pyplot as plt\n",
        "from sklearn import linear_model, datasets\n",
        "from sklearn.ensemble import RandomForestClassifier\n",
        "from sklearn.ensemble import RandomForestRegressor\n",
        "from sklearn.ensemble import GradientBoostingRegressor\n",
        "from sklearn.ensemble import AdaBoostRegressor\n",
        "from xgboost import XGBRegressor\n",
        "from xgboost.sklearn import XGBRegressor\n",
        "from sklearn.metrics import accuracy_score\n",
        "from sklearn.metrics import mean_absolute_error,r2_score,mean_squared_error\n",
        "import seaborn as sns\n",
        "from sklearn.tree import DecisionTreeClassifier\n",
        "from sklearn.model_selection import train_test_split\n",
        "\n"
      ],
      "metadata": {
        "id": "4eEbhiZr5sfz"
      },
      "execution_count": 8,
      "outputs": []
    },
    {
      "cell_type": "code",
      "source": [
        "# TensorFlow and tf.keras\n",
        "import tensorflow as tf\n",
        "from tensorflow import keras\n",
        "from tensorflow.keras.layers import Conv2D, MaxPooling2D, Dropout, Flatten, Dense\n",
        "\n",
        "from tensorflow.keras.models import Sequential\n",
        "from tensorflow.keras.layers import Dense, Dropout\n",
        "from tensorflow.keras.callbacks import EarlyStopping, LambdaCallback\n"
      ],
      "metadata": {
        "id": "1nxLagM65xmb"
      },
      "execution_count": 16,
      "outputs": []
    },
    {
      "cell_type": "code",
      "execution_count": 1,
      "metadata": {
        "id": "w4qI0-bN5PfI"
      },
      "outputs": [],
      "source": [
        "# install pydrive to load data\n",
        "!pip install -U -q PyDrive\n",
        "\n",
        "from pydrive.auth import GoogleAuth\n",
        "from pydrive.drive import GoogleDrive\n",
        "from google.colab import auth\n",
        "from oauth2client.client import GoogleCredentials\n",
        "\n",
        "auth.authenticate_user()\n",
        "gauth = GoogleAuth()\n",
        "gauth.credentials = GoogleCredentials.get_application_default()\n",
        "drive = GoogleDrive(gauth)"
      ]
    },
    {
      "cell_type": "code",
      "source": [
        "id = \"1kQa7ncnwrP373_eumpV0fWnCubjFkH6b\"\n",
        "file = drive.CreateFile({'id':id}) \n",
        "file.GetContentFile('final_Queens.csv')"
      ],
      "metadata": {
        "id": "RC2NabJF5YLa"
      },
      "execution_count": 2,
      "outputs": []
    },
    {
      "cell_type": "code",
      "source": [
        "df=pd.read_csv('final_Queens.csv')"
      ],
      "metadata": {
        "id": "zCuPQi2t5nDX"
      },
      "execution_count": 7,
      "outputs": []
    },
    {
      "cell_type": "code",
      "source": [
        "df1=df[['avg price','grocery distance < 500 numbers','subway_line_number < 500m',\n",
        "        'hospital_distance','library_distance','mall1_dist','police_dist',\n",
        "        'small_park_distance','mid_park_distance','big_park_distance',\n",
        "        'elem_school_dist','high_school_dist','junior_high_school_dist','secondary_school_dist',\n",
        "       'college_dist','bank_dist','restaurants1_dist','cafes1_dist']]\n",
        "df1=df1.rename(columns={\"avg price\":\"avg_price\"})\n",
        "df1=df1.dropna()"
      ],
      "metadata": {
        "id": "ZkCoMqPi9JSK"
      },
      "execution_count": 10,
      "outputs": []
    },
    {
      "cell_type": "code",
      "source": [
        "df1.loc[((df1.avg_price < 240) | (df1.avg_price > 200)), 'price_level'] = 'low'\n",
        "df1.loc[((df1.avg_price < 400) | (df1.avg_price > 240)), 'price_level'] = 'median'\n",
        "df1.loc[((df1.avg_price < 700) | (df1.avg_price > 400)), 'price_level'] = 'high'\n",
        "df1.loc[((df1.avg_price > 700)), 'price_level'] = 'veryhigh'"
      ],
      "metadata": {
        "id": "d8vG8vtx9QXI"
      },
      "execution_count": 11,
      "outputs": []
    },
    {
      "cell_type": "code",
      "source": [
        "y=df1.loc[:,\"avg_price\"]\n",
        "X=df1.iloc[:,1:-1]"
      ],
      "metadata": {
        "id": "94NGvsXw5rNK"
      },
      "execution_count": 12,
      "outputs": []
    },
    {
      "cell_type": "code",
      "source": [
        "X_train,X_test,y_train,y_test=train_test_split(X, y, test_size=0.3, random_state=999)"
      ],
      "metadata": {
        "id": "2Sbsvnfn53wF"
      },
      "execution_count": 14,
      "outputs": []
    },
    {
      "cell_type": "code",
      "source": [
        "def get_model ():\n",
        "    model = Sequential([\n",
        "        Dense(10, input_shape=(17,), activation = 'relu'),\n",
        "        Dense(20, activation = 'relu'),\n",
        "        Dense(5, activation = 'relu'),\n",
        "        Dense(1)\n",
        "    ])\n",
        "    \n",
        "    model.compile(\n",
        "        loss = 'mse',\n",
        "        optimizer = 'adam'\n",
        "    )\n",
        "    \n",
        "    return model\n",
        "\n",
        "\n",
        "get_model().summary()"
      ],
      "metadata": {
        "colab": {
          "base_uri": "https://localhost:8080/"
        },
        "id": "OWPZJejy53t1",
        "outputId": "798ab5e9-6fea-43e5-dd45-64f8c5b08b26"
      },
      "execution_count": 21,
      "outputs": [
        {
          "output_type": "stream",
          "name": "stdout",
          "text": [
            "Model: \"sequential_4\"\n",
            "_________________________________________________________________\n",
            " Layer (type)                Output Shape              Param #   \n",
            "=================================================================\n",
            " dense_16 (Dense)            (None, 10)                180       \n",
            "                                                                 \n",
            " dense_17 (Dense)            (None, 20)                220       \n",
            "                                                                 \n",
            " dense_18 (Dense)            (None, 5)                 105       \n",
            "                                                                 \n",
            " dense_19 (Dense)            (None, 1)                 6         \n",
            "                                                                 \n",
            "=================================================================\n",
            "Total params: 511\n",
            "Trainable params: 511\n",
            "Non-trainable params: 0\n",
            "_________________________________________________________________\n"
          ]
        }
      ]
    },
    {
      "cell_type": "code",
      "source": [
        "es_cb = EarlyStopping(monitor='val_loss', patience=17)\n",
        "\n",
        "model = get_model()\n",
        "\n",
        "preds_on_untrained = model.predict(X_test)\n",
        "\n",
        "history = model.fit(\n",
        "    X_train, y_train,\n",
        "    validation_data = (X_test, y_test),\n",
        "    epochs = 50,\n",
        "    callbacks = [es_cb]\n",
        "    \n",
        ")"
      ],
      "metadata": {
        "colab": {
          "base_uri": "https://localhost:8080/"
        },
        "id": "aYt10eKg53rR",
        "outputId": "74761b2a-d59b-49a0-c823-01b08b385e9e"
      },
      "execution_count": 22,
      "outputs": [
        {
          "output_type": "stream",
          "name": "stdout",
          "text": [
            "Epoch 1/50\n",
            "44/44 [==============================] - 1s 6ms/step - loss: 224962.9844 - val_loss: 103897.6094\n",
            "Epoch 2/50\n",
            "44/44 [==============================] - 0s 4ms/step - loss: 70055.4375 - val_loss: 72030.5156\n",
            "Epoch 3/50\n",
            "44/44 [==============================] - 0s 4ms/step - loss: 46560.1836 - val_loss: 53862.4531\n",
            "Epoch 4/50\n",
            "44/44 [==============================] - 0s 3ms/step - loss: 33223.8750 - val_loss: 44466.1680\n",
            "Epoch 5/50\n",
            "44/44 [==============================] - 0s 3ms/step - loss: 26995.8535 - val_loss: 39950.7461\n",
            "Epoch 6/50\n",
            "44/44 [==============================] - 0s 4ms/step - loss: 24975.4023 - val_loss: 38917.8711\n",
            "Epoch 7/50\n",
            "44/44 [==============================] - 0s 4ms/step - loss: 24298.7949 - val_loss: 38438.4883\n",
            "Epoch 8/50\n",
            "44/44 [==============================] - 0s 4ms/step - loss: 23520.6602 - val_loss: 37419.1406\n",
            "Epoch 9/50\n",
            "44/44 [==============================] - 0s 3ms/step - loss: 23116.6953 - val_loss: 37352.1875\n",
            "Epoch 10/50\n",
            "44/44 [==============================] - 0s 4ms/step - loss: 22338.7227 - val_loss: 36313.5625\n",
            "Epoch 11/50\n",
            "44/44 [==============================] - 0s 3ms/step - loss: 22006.2793 - val_loss: 36266.5078\n",
            "Epoch 12/50\n",
            "44/44 [==============================] - 0s 3ms/step - loss: 21480.1074 - val_loss: 35641.9609\n",
            "Epoch 13/50\n",
            "44/44 [==============================] - 0s 4ms/step - loss: 21096.0391 - val_loss: 35190.8281\n",
            "Epoch 14/50\n",
            "44/44 [==============================] - 0s 4ms/step - loss: 20531.1797 - val_loss: 35007.3047\n",
            "Epoch 15/50\n",
            "44/44 [==============================] - 0s 3ms/step - loss: 20385.7168 - val_loss: 34625.7422\n",
            "Epoch 16/50\n",
            "44/44 [==============================] - 0s 3ms/step - loss: 20216.5742 - val_loss: 34028.7266\n",
            "Epoch 17/50\n",
            "44/44 [==============================] - 0s 4ms/step - loss: 19873.0117 - val_loss: 36059.8320\n",
            "Epoch 18/50\n",
            "44/44 [==============================] - 0s 4ms/step - loss: 19336.2637 - val_loss: 33189.3945\n",
            "Epoch 19/50\n",
            "44/44 [==============================] - 0s 3ms/step - loss: 18784.5918 - val_loss: 33336.8867\n",
            "Epoch 20/50\n",
            "44/44 [==============================] - 0s 3ms/step - loss: 18721.7324 - val_loss: 32859.6289\n",
            "Epoch 21/50\n",
            "44/44 [==============================] - 0s 3ms/step - loss: 18606.9648 - val_loss: 32370.6777\n",
            "Epoch 22/50\n",
            "44/44 [==============================] - 0s 3ms/step - loss: 17908.2910 - val_loss: 32307.8047\n",
            "Epoch 23/50\n",
            "44/44 [==============================] - 0s 7ms/step - loss: 17799.7520 - val_loss: 32886.7422\n",
            "Epoch 24/50\n",
            "44/44 [==============================] - 0s 3ms/step - loss: 17491.9648 - val_loss: 32196.6973\n",
            "Epoch 25/50\n",
            "44/44 [==============================] - 0s 3ms/step - loss: 17296.9727 - val_loss: 31657.8887\n",
            "Epoch 26/50\n",
            "44/44 [==============================] - 0s 4ms/step - loss: 17024.1895 - val_loss: 31920.9434\n",
            "Epoch 27/50\n",
            "44/44 [==============================] - 0s 4ms/step - loss: 17315.2305 - val_loss: 31439.3672\n",
            "Epoch 28/50\n",
            "44/44 [==============================] - 0s 3ms/step - loss: 16720.9551 - val_loss: 31242.4688\n",
            "Epoch 29/50\n",
            "44/44 [==============================] - 0s 4ms/step - loss: 16505.6816 - val_loss: 31033.3027\n",
            "Epoch 30/50\n",
            "44/44 [==============================] - 0s 3ms/step - loss: 16417.6836 - val_loss: 31312.7031\n",
            "Epoch 31/50\n",
            "44/44 [==============================] - 0s 3ms/step - loss: 16192.2412 - val_loss: 30958.2227\n",
            "Epoch 32/50\n",
            "44/44 [==============================] - 0s 3ms/step - loss: 16056.6855 - val_loss: 30997.3574\n",
            "Epoch 33/50\n",
            "44/44 [==============================] - 0s 3ms/step - loss: 15825.5957 - val_loss: 30637.3203\n",
            "Epoch 34/50\n",
            "44/44 [==============================] - 0s 3ms/step - loss: 15578.5723 - val_loss: 30254.0508\n",
            "Epoch 35/50\n",
            "44/44 [==============================] - 0s 3ms/step - loss: 15601.2764 - val_loss: 30360.6426\n",
            "Epoch 36/50\n",
            "44/44 [==============================] - 0s 4ms/step - loss: 15395.1865 - val_loss: 31796.7871\n",
            "Epoch 37/50\n",
            "44/44 [==============================] - 0s 4ms/step - loss: 15702.4775 - val_loss: 29427.8555\n",
            "Epoch 38/50\n",
            "44/44 [==============================] - 0s 4ms/step - loss: 15137.9971 - val_loss: 29366.0234\n",
            "Epoch 39/50\n",
            "44/44 [==============================] - 0s 4ms/step - loss: 14856.2109 - val_loss: 29484.0059\n",
            "Epoch 40/50\n",
            "44/44 [==============================] - 0s 3ms/step - loss: 15194.8145 - val_loss: 29880.8848\n",
            "Epoch 41/50\n",
            "44/44 [==============================] - 0s 3ms/step - loss: 15132.1699 - val_loss: 28759.6289\n",
            "Epoch 42/50\n",
            "44/44 [==============================] - 0s 4ms/step - loss: 14523.2314 - val_loss: 28694.3262\n",
            "Epoch 43/50\n",
            "44/44 [==============================] - 0s 4ms/step - loss: 14062.2725 - val_loss: 28489.0566\n",
            "Epoch 44/50\n",
            "44/44 [==============================] - 0s 3ms/step - loss: 13960.4590 - val_loss: 29071.7480\n",
            "Epoch 45/50\n",
            "44/44 [==============================] - 0s 4ms/step - loss: 14269.8936 - val_loss: 28339.4824\n",
            "Epoch 46/50\n",
            "44/44 [==============================] - 0s 4ms/step - loss: 14148.1416 - val_loss: 28282.5859\n",
            "Epoch 47/50\n",
            "44/44 [==============================] - 0s 4ms/step - loss: 13366.5771 - val_loss: 28122.2031\n",
            "Epoch 48/50\n",
            "44/44 [==============================] - 0s 4ms/step - loss: 13451.9336 - val_loss: 28649.7402\n",
            "Epoch 49/50\n",
            "44/44 [==============================] - 0s 4ms/step - loss: 13438.1689 - val_loss: 28069.6777\n",
            "Epoch 50/50\n",
            "44/44 [==============================] - 0s 4ms/step - loss: 13221.6553 - val_loss: 28044.6035\n"
          ]
        }
      ]
    },
    {
      "cell_type": "code",
      "source": [
        "def plot_loss(history):\n",
        "    h = history.history\n",
        "    x_lim = len(h['loss'])\n",
        "    plt.figure(figsize=(8, 8))\n",
        "    plt.plot(range(x_lim), h['val_loss'], label = 'Validation Loss')\n",
        "    plt.plot(range(x_lim), h['loss'], label = 'Training Loss')\n",
        "    plt.xlabel('Epochs')\n",
        "    plt.ylabel('Loss')\n",
        "    plt.legend()\n",
        "    plt.show()\n",
        "    return\n",
        "\n",
        "plot_loss(history)"
      ],
      "metadata": {
        "colab": {
          "base_uri": "https://localhost:8080/",
          "height": 497
        },
        "id": "aW0PMHtK53ov",
        "outputId": "873047ea-608a-441c-a28b-c488e75b60bd"
      },
      "execution_count": 23,
      "outputs": [
        {
          "output_type": "display_data",
          "data": {
            "text/plain": [
              "<Figure size 576x576 with 1 Axes>"
            ],
            "image/png": "[encoded data removed]"
          },
          "metadata": {
            "needs_background": "light"
          }
        }
      ]
    },
    {
      "cell_type": "code",
      "source": [
        "mse = mean_squared_error(y_test, model.predict(X_test))\n",
        "print('Mean Squared Error: ',mse)\n",
        "mae = mean_absolute_error(y_test, model.predict(X_test))\n",
        "print('Mean Absolute Error: ',mae)\n",
        "rsq = r2_score(y_train, model.predict(X_train)) #R-Squared on the training data\n",
        "print('R-square, Training: ',rsq)\n",
        "rsq = r2_score(y_test, model.predict(X_test)) #R-Squared on the testing data\n",
        "print('R-square, Testing: ',rsq)"
      ],
      "metadata": {
        "colab": {
          "base_uri": "https://localhost:8080/"
        },
        "id": "iEAOyDpWAw4e",
        "outputId": "442461d1-41ca-47c3-83f6-bf400c81003d"
      },
      "execution_count": 29,
      "outputs": [
        {
          "output_type": "stream",
          "name": "stdout",
          "text": [
            "Mean Squared Error:  28044.60524274896\n",
            "Mean Absolute Error:  96.28485925389859\n",
            "R-square, Training:  0.2309130559899777\n",
            "R-square, Testing:  -0.01504863195289019\n"
          ]
        }
      ]
    },
    {
      "cell_type": "code",
      "source": [
        "preds_on_trained = model.predict(X_test)\n",
        "\n",
        "\n",
        "def compare_predictions(preds1, preds2, y_test):\n",
        "    plt.figure(figsize=(8, 8))\n",
        "    plt.plot(preds1, y_test, 'ro', label='Untrained Model')\n",
        "    plt.plot(preds2, y_test, 'go', label='Trained Model')\n",
        "    plt.xlabel('Preds')\n",
        "    plt.ylabel('Labels')\n",
        "    \n",
        "    y_min = min(min(y_test), min(preds1), min(preds2))\n",
        "    y_max = max(max(y_test), max(preds1), max(preds2))\n",
        "    \n",
        "    plt.xlim([y_min, y_max])\n",
        "    plt.ylim([y_min, y_max])\n",
        "    plt.plot([y_min, y_max], [y_min, y_max], 'b--')\n",
        "    plt.legend()\n",
        "    plt.show()\n",
        "    return\n",
        "\n",
        "compare_predictions(preds_on_untrained, preds_on_trained, y_test)"
      ],
      "metadata": {
        "colab": {
          "base_uri": "https://localhost:8080/",
          "height": 498
        },
        "id": "LkEXF2nE53ca",
        "outputId": "494a19e1-f8fc-4458-9df3-ed9627f867d0"
      },
      "execution_count": 24,
      "outputs": [
        {
          "output_type": "display_data",
          "data": {
            "text/plain": [
              "<Figure size 576x576 with 1 Axes>"
            ],
            "image/png": "[encoded data removed]"
          },
          "metadata": {
            "needs_background": "light"
          }
        }
      ]
    },
    {
      "cell_type": "code",
      "source": [
        "price_untrained = [convert_label_value(y) for y in preds_on_untrained]\n",
        "price_trained = [convert_label_value(y) for y in preds_on_trained]\n",
        "prince_test = [convert_label_value(y) for y in y_test]\n",
        "\n",
        "def compare_predictions(preds1, preds2, y_test):\n",
        "    plt.figure(figsize=(8, 8))\n",
        "    plt.plot(preds1, y_test, 'ro', label='Untrained Model')\n",
        "    plt.plot(preds2, y_test, 'go', label='Trained Model')\n",
        "    plt.xlabel('Preds')\n",
        "    plt.ylabel('Labels')\n",
        "    \n",
        "    y_min = min(min(y_test), min(preds1), min(preds2))\n",
        "    y_max = max(max(y_test), max(preds1), max(preds2))\n",
        "    \n",
        "    plt.xlim([y_min, y_max])\n",
        "    plt.ylim([y_min, y_max])\n",
        "    plt.plot([y_min, y_max], [y_min, y_max], 'b--')\n",
        "    plt.legend()\n",
        "    plt.show()\n",
        "    return\n",
        "\n",
        "compare_predictions(price_untrained, price_trained, prince_test)"
      ],
      "metadata": {
        "colab": {
          "base_uri": "https://localhost:8080/",
          "height": 351
        },
        "id": "hY9lx-t--z2E",
        "outputId": "674b69a4-bfd4-4136-ebcf-8bf3c18c1352"
      },
      "execution_count": 25,
      "outputs": [
        {
          "output_type": "error",
          "ename": "NameError",
          "evalue": "ignored",
          "traceback": [
            "\u001b[0;31m---------------------------------------------------------------------------\u001b[0m",
            "\u001b[0;31mNameError\u001b[0m                                 Traceback (most recent call last)",
            "\u001b[0;32m<ipython-input-25-135a0caface7>\u001b[0m in \u001b[0;36m<module>\u001b[0;34m()\u001b[0m\n\u001b[0;32m----> 1\u001b[0;31m \u001b[0mprice_untrained\u001b[0m \u001b[0;34m=\u001b[0m \u001b[0;34m[\u001b[0m\u001b[0mconvert_label_value\u001b[0m\u001b[0;34m(\u001b[0m\u001b[0my\u001b[0m\u001b[0;34m)\u001b[0m \u001b[0;32mfor\u001b[0m \u001b[0my\u001b[0m \u001b[0;32min\u001b[0m \u001b[0mpreds_on_untrained\u001b[0m\u001b[0;34m]\u001b[0m\u001b[0;34m\u001b[0m\u001b[0;34m\u001b[0m\u001b[0m\n\u001b[0m\u001b[1;32m      2\u001b[0m \u001b[0mprice_trained\u001b[0m \u001b[0;34m=\u001b[0m \u001b[0;34m[\u001b[0m\u001b[0mconvert_label_value\u001b[0m\u001b[0;34m(\u001b[0m\u001b[0my\u001b[0m\u001b[0;34m)\u001b[0m \u001b[0;32mfor\u001b[0m \u001b[0my\u001b[0m \u001b[0;32min\u001b[0m \u001b[0mpreds_on_trained\u001b[0m\u001b[0;34m]\u001b[0m\u001b[0;34m\u001b[0m\u001b[0;34m\u001b[0m\u001b[0m\n\u001b[1;32m      3\u001b[0m \u001b[0mprince_test\u001b[0m \u001b[0;34m=\u001b[0m \u001b[0;34m[\u001b[0m\u001b[0mconvert_label_value\u001b[0m\u001b[0;34m(\u001b[0m\u001b[0my\u001b[0m\u001b[0;34m)\u001b[0m \u001b[0;32mfor\u001b[0m \u001b[0my\u001b[0m \u001b[0;32min\u001b[0m \u001b[0my_test\u001b[0m\u001b[0;34m]\u001b[0m\u001b[0;34m\u001b[0m\u001b[0;34m\u001b[0m\u001b[0m\n\u001b[1;32m      4\u001b[0m \u001b[0;34m\u001b[0m\u001b[0m\n\u001b[1;32m      5\u001b[0m \u001b[0;32mdef\u001b[0m \u001b[0mcompare_predictions\u001b[0m\u001b[0;34m(\u001b[0m\u001b[0mpreds1\u001b[0m\u001b[0;34m,\u001b[0m \u001b[0mpreds2\u001b[0m\u001b[0;34m,\u001b[0m \u001b[0my_test\u001b[0m\u001b[0;34m)\u001b[0m\u001b[0;34m:\u001b[0m\u001b[0;34m\u001b[0m\u001b[0;34m\u001b[0m\u001b[0m\n",
            "\u001b[0;32m<ipython-input-25-135a0caface7>\u001b[0m in \u001b[0;36m<listcomp>\u001b[0;34m(.0)\u001b[0m\n\u001b[0;32m----> 1\u001b[0;31m \u001b[0mprice_untrained\u001b[0m \u001b[0;34m=\u001b[0m \u001b[0;34m[\u001b[0m\u001b[0mconvert_label_value\u001b[0m\u001b[0;34m(\u001b[0m\u001b[0my\u001b[0m\u001b[0;34m)\u001b[0m \u001b[0;32mfor\u001b[0m \u001b[0my\u001b[0m \u001b[0;32min\u001b[0m \u001b[0mpreds_on_untrained\u001b[0m\u001b[0;34m]\u001b[0m\u001b[0;34m\u001b[0m\u001b[0;34m\u001b[0m\u001b[0m\n\u001b[0m\u001b[1;32m      2\u001b[0m \u001b[0mprice_trained\u001b[0m \u001b[0;34m=\u001b[0m \u001b[0;34m[\u001b[0m\u001b[0mconvert_label_value\u001b[0m\u001b[0;34m(\u001b[0m\u001b[0my\u001b[0m\u001b[0;34m)\u001b[0m \u001b[0;32mfor\u001b[0m \u001b[0my\u001b[0m \u001b[0;32min\u001b[0m \u001b[0mpreds_on_trained\u001b[0m\u001b[0;34m]\u001b[0m\u001b[0;34m\u001b[0m\u001b[0;34m\u001b[0m\u001b[0m\n\u001b[1;32m      3\u001b[0m \u001b[0mprince_test\u001b[0m \u001b[0;34m=\u001b[0m \u001b[0;34m[\u001b[0m\u001b[0mconvert_label_value\u001b[0m\u001b[0;34m(\u001b[0m\u001b[0my\u001b[0m\u001b[0;34m)\u001b[0m \u001b[0;32mfor\u001b[0m \u001b[0my\u001b[0m \u001b[0;32min\u001b[0m \u001b[0my_test\u001b[0m\u001b[0;34m]\u001b[0m\u001b[0;34m\u001b[0m\u001b[0;34m\u001b[0m\u001b[0m\n\u001b[1;32m      4\u001b[0m \u001b[0;34m\u001b[0m\u001b[0m\n\u001b[1;32m      5\u001b[0m \u001b[0;32mdef\u001b[0m \u001b[0mcompare_predictions\u001b[0m\u001b[0;34m(\u001b[0m\u001b[0mpreds1\u001b[0m\u001b[0;34m,\u001b[0m \u001b[0mpreds2\u001b[0m\u001b[0;34m,\u001b[0m \u001b[0my_test\u001b[0m\u001b[0;34m)\u001b[0m\u001b[0;34m:\u001b[0m\u001b[0;34m\u001b[0m\u001b[0;34m\u001b[0m\u001b[0m\n",
            "\u001b[0;31mNameError\u001b[0m: name 'convert_label_value' is not defined"
          ]
        }
      ]
    },
    {
      "cell_type": "code",
      "source": [
        ""
      ],
      "metadata": {
        "id": "JkYZHHcJ-8Gi"
      },
      "execution_count": null,
      "outputs": []
    }
  ]
}